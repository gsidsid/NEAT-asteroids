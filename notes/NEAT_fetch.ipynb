{
 "cells": [
  {
   "cell_type": "code",
   "execution_count": 33,
   "metadata": {},
   "outputs": [
    {
     "name": "stdout",
     "output_type": "stream",
     "text": [
      "Completed fetching record g19960421\n",
      "Unpacking...\n",
      "Done!\n"
     ]
    }
   ],
   "source": [
    "from bs4 import BeautifulSoup\n",
    "from urllib.request import Request, urlopen, urlretrieve\n",
    "import requests\n",
    "import subprocess\n",
    "import threading\n",
    "import re\n",
    "import os"
   ]
  },
  {
   "cell_type": "code",
   "execution_count": 2,
   "metadata": {},
   "outputs": [],
   "source": [
    "NEAT_vol_1 = 'https://sbnarchive.psi.edu/pds3/neat/geodss/data/'\n",
    "NEAT_vol_1_folder = \"geodss\"\n",
    "NEAT_vol_2 = 'https://sbnarchive.psi.edu/pds3/neat/tricam/data/'\n",
    "NEAT_vol_2_folder = \"tricam\"\n",
    "NEAT_vol_3 = 'https://sbnarchive.psi.edu/pds3/neat/tricam2/data/'\n",
    "NEAT_vol_3_folder = \"tricam2\""
   ]
  },
  {
   "cell_type": "code",
   "execution_count": 3,
   "metadata": {},
   "outputs": [],
   "source": [
    "def pullVolumeData(url, ext=''):\n",
    "    page = requests.get(url).text\n",
    "    soup = BeautifulSoup(page, 'html.parser')\n",
    "    links = [url + '/' + node.get('href') for node in soup.find_all('a') if node.get('href').endswith(ext)]\n",
    "    return links[5:-2]"
   ]
  },
  {
   "cell_type": "code",
   "execution_count": 4,
   "metadata": {},
   "outputs": [],
   "source": [
    "NEAT_vol_1_data = pullVolumeData(NEAT_vol_1)"
   ]
  },
  {
   "cell_type": "code",
   "execution_count": 5,
   "metadata": {},
   "outputs": [],
   "source": [
    "def getRecordsFromVolumeData(data, _idx):\n",
    "    if isinstance(_idx, int):\n",
    "        return [data[_idx]]\n",
    "    else:\n",
    "        x = []\n",
    "        for i in _idx:\n",
    "            x.append(data[i])\n",
    "        return x"
   ]
  },
  {
   "cell_type": "code",
   "execution_count": 6,
   "metadata": {},
   "outputs": [
    {
     "data": {
      "text/plain": [
       "['https://sbnarchive.psi.edu/pds3/neat/geodss/data//g19960418/']"
      ]
     },
     "execution_count": 6,
     "metadata": {},
     "output_type": "execute_result"
    }
   ],
   "source": [
    "nv1s1 = getRecordsFromVolumeData(NEAT_vol_1_data, [1])\n",
    "nv1s1"
   ]
  },
  {
   "cell_type": "code",
   "execution_count": 30,
   "metadata": {},
   "outputs": [],
   "source": [
    "def read_url(url,rL):\n",
    "    url = url.replace(\" \",\"%20\")\n",
    "    req = Request(url)\n",
    "    a = urlopen(req).read()\n",
    "    soup = BeautifulSoup(a, 'html.parser')\n",
    "    x = (soup.find_all('a'))\n",
    "    for i in x:\n",
    "        file_name = i.extract().get_text()\n",
    "        url_new = url + file_name\n",
    "        url_new = url_new.replace(\" \",\"%20\")\n",
    "        if(file_name[-1]=='/' and file_name[0]!='.'):\n",
    "            read_url(url_new,rL)\n",
    "        rL.append(url_new)\n",
    "\n",
    "def getRecordID(record):\n",
    "    return record.split('/')[-2]\n",
    "        \n",
    "def fetchRecord(record,verbose=False):\n",
    "    file_idx = 0\n",
    "    recordData=[]\n",
    "    read_url(record,recordData)\n",
    "    print(\"Fetching record \" + getRecordID(record) + \"...\")\n",
    "    # print(\"wget -r -nH -nc --cut-dirs=2 --no-parent --reject=\\\"index.html*\\\" \" + str(record))\n",
    "    os.system(\"wget -r -nH -nc --cut-dirs=2 --no-parent --reject=\\\"index.html*\\\" \" + str(record))\n",
    "    if(verbose):\n",
    "        print(\"Completed fetching record \" + getRecordID(record) , end=\"\\r\")\n",
    "    else:\n",
    "        print(\"Completed fetching record \" + getRecordID(record))\n",
    "    print(\"Unpacking...\")\n",
    "    subprocess.call(\"funpacker.sh\", shell=True)\n",
    "    print(\"Done!\")\n",
    "    \n",
    "def fetchRecords(data):\n",
    "    for record in data:\n",
    "        t = threading.Thread(target=fetchRecord, args=(record,False));\n",
    "        t.daemon = True;\n",
    "        t.start();"
   ]
  },
  {
   "cell_type": "code",
   "execution_count": 31,
   "metadata": {},
   "outputs": [
    {
     "data": {
      "text/plain": [
       "['https://sbnarchive.psi.edu/pds3/neat/geodss/data//g19960419/',\n",
       " 'https://sbnarchive.psi.edu/pds3/neat/geodss/data//g19960420/',\n",
       " 'https://sbnarchive.psi.edu/pds3/neat/geodss/data//g19960421/']"
      ]
     },
     "execution_count": 31,
     "metadata": {},
     "output_type": "execute_result"
    }
   ],
   "source": [
    "_idx=[2,3,4]\n",
    "geodss_samples = getRecordsFromVolumeData(NEAT_vol_1_data, _idx);\n",
    "geodss_samples"
   ]
  },
  {
   "cell_type": "code",
   "execution_count": 32,
   "metadata": {},
   "outputs": [
    {
     "name": "stdout",
     "output_type": "stream",
     "text": [
      "Fetching record g19960420...\n",
      "Fetching record g19960419...\n",
      "Fetching record g19960421...\n",
      "Completed fetching record g19960420\n",
      "Unpacking...\n"
     ]
    },
    {
     "name": "stderr",
     "output_type": "stream",
     "text": [
      "Exception in thread Thread-14:\n",
      "Traceback (most recent call last):\n",
      "  File \"/usr/lib/python3.5/threading.py\", line 914, in _bootstrap_inner\n",
      "    self.run()\n",
      "  File \"/usr/lib/python3.5/threading.py\", line 862, in run\n",
      "    self._target(*self._args, **self._kwargs)\n",
      "  File \"<ipython-input-30-0c6454a5e08a>\", line 30, in fetchRecord\n",
      "    subprocess.call(\"funpacker.sh\", shell=True)\n",
      "NameError: name 'subprocess' is not defined\n",
      "\n"
     ]
    },
    {
     "name": "stdout",
     "output_type": "stream",
     "text": [
      "Completed fetching record g19960419\n",
      "Unpacking...\n"
     ]
    },
    {
     "name": "stderr",
     "output_type": "stream",
     "text": [
      "Exception in thread Thread-13:\n",
      "Traceback (most recent call last):\n",
      "  File \"/usr/lib/python3.5/threading.py\", line 914, in _bootstrap_inner\n",
      "    self.run()\n",
      "  File \"/usr/lib/python3.5/threading.py\", line 862, in run\n",
      "    self._target(*self._args, **self._kwargs)\n",
      "  File \"<ipython-input-30-0c6454a5e08a>\", line 30, in fetchRecord\n",
      "    subprocess.call(\"funpacker.sh\", shell=True)\n",
      "NameError: name 'subprocess' is not defined\n",
      "\n"
     ]
    }
   ],
   "source": [
    "fetchRecords(geodss_samples)"
   ]
  },
  {
   "cell_type": "code",
   "execution_count": null,
   "metadata": {},
   "outputs": [],
   "source": []
  },
  {
   "cell_type": "code",
   "execution_count": null,
   "metadata": {},
   "outputs": [],
   "source": []
  }
 ],
 "metadata": {
  "kernelspec": {
   "display_name": "Python 3",
   "language": "python",
   "name": "python3"
  },
  "language_info": {
   "codemirror_mode": {
    "name": "ipython",
    "version": 3
   },
   "file_extension": ".py",
   "mimetype": "text/x-python",
   "name": "python",
   "nbconvert_exporter": "python",
   "pygments_lexer": "ipython3",
   "version": "3.5.2"
  }
 },
 "nbformat": 4,
 "nbformat_minor": 2
}
